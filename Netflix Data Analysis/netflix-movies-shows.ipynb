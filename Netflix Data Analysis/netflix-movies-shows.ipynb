{
 "cells": [
  {
   "cell_type": "code",
   "execution_count": 1,
   "id": "92133e3b",
   "metadata": {
    "execution": {
     "iopub.execute_input": "2023-12-21T13:34:46.714342Z",
     "iopub.status.busy": "2023-12-21T13:34:46.713752Z",
     "iopub.status.idle": "2023-12-21T13:34:47.781209Z",
     "shell.execute_reply": "2023-12-21T13:34:47.779837Z"
    },
    "papermill": {
     "duration": 1.079354,
     "end_time": "2023-12-21T13:34:47.784337",
     "exception": false,
     "start_time": "2023-12-21T13:34:46.704983",
     "status": "completed"
    },
    "tags": []
   },
   "outputs": [],
   "source": [
    "import pandas as pd\n",
    "import matplotlib.pyplot as plt"
   ]
  },
  {
   "cell_type": "code",
   "execution_count": 2,
   "id": "d1b30f69",
   "metadata": {
    "execution": {
     "iopub.execute_input": "2023-12-21T13:34:47.801824Z",
     "iopub.status.busy": "2023-12-21T13:34:47.801248Z",
     "iopub.status.idle": "2023-12-21T13:34:47.867623Z",
     "shell.execute_reply": "2023-12-21T13:34:47.866462Z"
    },
    "papermill": {
     "duration": 0.07749,
     "end_time": "2023-12-21T13:34:47.870516",
     "exception": false,
     "start_time": "2023-12-21T13:34:47.793026",
     "status": "completed"
    },
    "tags": []
   },
   "outputs": [],
   "source": [
    "netflixdata = pd.read_csv('/kaggle/input/netflix-movies-and-shows/imdb_movies_shows.csv')"
   ]
  },
  {
   "cell_type": "code",
   "execution_count": 3,
   "id": "a23ec935",
   "metadata": {
    "execution": {
     "iopub.execute_input": "2023-12-21T13:34:47.884754Z",
     "iopub.status.busy": "2023-12-21T13:34:47.884358Z",
     "iopub.status.idle": "2023-12-21T13:34:47.930659Z",
     "shell.execute_reply": "2023-12-21T13:34:47.929612Z"
    },
    "papermill": {
     "duration": 0.056721,
     "end_time": "2023-12-21T13:34:47.933347",
     "exception": false,
     "start_time": "2023-12-21T13:34:47.876626",
     "status": "completed"
    },
    "tags": []
   },
   "outputs": [
    {
     "data": {
      "text/html": [
       "<div>\n",
       "<style scoped>\n",
       "    .dataframe tbody tr th:only-of-type {\n",
       "        vertical-align: middle;\n",
       "    }\n",
       "\n",
       "    .dataframe tbody tr th {\n",
       "        vertical-align: top;\n",
       "    }\n",
       "\n",
       "    .dataframe thead th {\n",
       "        text-align: right;\n",
       "    }\n",
       "</style>\n",
       "<table border=\"1\" class=\"dataframe\">\n",
       "  <thead>\n",
       "    <tr style=\"text-align: right;\">\n",
       "      <th></th>\n",
       "      <th>title</th>\n",
       "      <th>type</th>\n",
       "      <th>release_year</th>\n",
       "      <th>age_certification</th>\n",
       "      <th>runtime</th>\n",
       "      <th>genres</th>\n",
       "      <th>production_countries</th>\n",
       "      <th>seasons</th>\n",
       "      <th>imdb_id</th>\n",
       "      <th>imdb_score</th>\n",
       "      <th>imdb_votes</th>\n",
       "    </tr>\n",
       "  </thead>\n",
       "  <tbody>\n",
       "    <tr>\n",
       "      <th>0</th>\n",
       "      <td>Five Came Back: The Reference Films</td>\n",
       "      <td>SHOW</td>\n",
       "      <td>1945</td>\n",
       "      <td>TV-MA</td>\n",
       "      <td>48</td>\n",
       "      <td>['documentation']</td>\n",
       "      <td>['US']</td>\n",
       "      <td>1.0</td>\n",
       "      <td>NaN</td>\n",
       "      <td>NaN</td>\n",
       "      <td>NaN</td>\n",
       "    </tr>\n",
       "    <tr>\n",
       "      <th>1</th>\n",
       "      <td>Taxi Driver</td>\n",
       "      <td>MOVIE</td>\n",
       "      <td>1976</td>\n",
       "      <td>R</td>\n",
       "      <td>113</td>\n",
       "      <td>['crime', 'drama']</td>\n",
       "      <td>['US']</td>\n",
       "      <td>NaN</td>\n",
       "      <td>tt0075314</td>\n",
       "      <td>8.3</td>\n",
       "      <td>795222.0</td>\n",
       "    </tr>\n",
       "    <tr>\n",
       "      <th>2</th>\n",
       "      <td>Monty Python and the Holy Grail</td>\n",
       "      <td>MOVIE</td>\n",
       "      <td>1975</td>\n",
       "      <td>PG</td>\n",
       "      <td>91</td>\n",
       "      <td>['comedy', 'fantasy']</td>\n",
       "      <td>['GB']</td>\n",
       "      <td>NaN</td>\n",
       "      <td>tt0071853</td>\n",
       "      <td>8.2</td>\n",
       "      <td>530877.0</td>\n",
       "    </tr>\n",
       "    <tr>\n",
       "      <th>3</th>\n",
       "      <td>Life of Brian</td>\n",
       "      <td>MOVIE</td>\n",
       "      <td>1979</td>\n",
       "      <td>R</td>\n",
       "      <td>94</td>\n",
       "      <td>['comedy']</td>\n",
       "      <td>['GB']</td>\n",
       "      <td>NaN</td>\n",
       "      <td>tt0079470</td>\n",
       "      <td>8.0</td>\n",
       "      <td>392419.0</td>\n",
       "    </tr>\n",
       "    <tr>\n",
       "      <th>4</th>\n",
       "      <td>The Exorcist</td>\n",
       "      <td>MOVIE</td>\n",
       "      <td>1973</td>\n",
       "      <td>R</td>\n",
       "      <td>133</td>\n",
       "      <td>['horror']</td>\n",
       "      <td>['US']</td>\n",
       "      <td>NaN</td>\n",
       "      <td>tt0070047</td>\n",
       "      <td>8.1</td>\n",
       "      <td>391942.0</td>\n",
       "    </tr>\n",
       "    <tr>\n",
       "      <th>...</th>\n",
       "      <td>...</td>\n",
       "      <td>...</td>\n",
       "      <td>...</td>\n",
       "      <td>...</td>\n",
       "      <td>...</td>\n",
       "      <td>...</td>\n",
       "      <td>...</td>\n",
       "      <td>...</td>\n",
       "      <td>...</td>\n",
       "      <td>...</td>\n",
       "      <td>...</td>\n",
       "    </tr>\n",
       "    <tr>\n",
       "      <th>5801</th>\n",
       "      <td>Fine Wine</td>\n",
       "      <td>MOVIE</td>\n",
       "      <td>2021</td>\n",
       "      <td>NaN</td>\n",
       "      <td>100</td>\n",
       "      <td>['romance', 'drama']</td>\n",
       "      <td>['NG']</td>\n",
       "      <td>NaN</td>\n",
       "      <td>tt13857480</td>\n",
       "      <td>6.9</td>\n",
       "      <td>39.0</td>\n",
       "    </tr>\n",
       "    <tr>\n",
       "      <th>5802</th>\n",
       "      <td>Edis Starlight</td>\n",
       "      <td>MOVIE</td>\n",
       "      <td>2021</td>\n",
       "      <td>NaN</td>\n",
       "      <td>74</td>\n",
       "      <td>['music', 'documentation']</td>\n",
       "      <td>[]</td>\n",
       "      <td>NaN</td>\n",
       "      <td>NaN</td>\n",
       "      <td>NaN</td>\n",
       "      <td>NaN</td>\n",
       "    </tr>\n",
       "    <tr>\n",
       "      <th>5803</th>\n",
       "      <td>Clash</td>\n",
       "      <td>MOVIE</td>\n",
       "      <td>2021</td>\n",
       "      <td>NaN</td>\n",
       "      <td>88</td>\n",
       "      <td>['family', 'drama']</td>\n",
       "      <td>['NG', 'CA']</td>\n",
       "      <td>NaN</td>\n",
       "      <td>tt14620732</td>\n",
       "      <td>6.5</td>\n",
       "      <td>32.0</td>\n",
       "    </tr>\n",
       "    <tr>\n",
       "      <th>5804</th>\n",
       "      <td>Shadow Parties</td>\n",
       "      <td>MOVIE</td>\n",
       "      <td>2021</td>\n",
       "      <td>NaN</td>\n",
       "      <td>116</td>\n",
       "      <td>['action', 'thriller']</td>\n",
       "      <td>[]</td>\n",
       "      <td>NaN</td>\n",
       "      <td>tt10168094</td>\n",
       "      <td>6.2</td>\n",
       "      <td>9.0</td>\n",
       "    </tr>\n",
       "    <tr>\n",
       "      <th>5805</th>\n",
       "      <td>Mighty Little Bheem: Kite Festival</td>\n",
       "      <td>SHOW</td>\n",
       "      <td>2021</td>\n",
       "      <td>NaN</td>\n",
       "      <td>0</td>\n",
       "      <td>['family', 'comedy', 'animation']</td>\n",
       "      <td>[]</td>\n",
       "      <td>1.0</td>\n",
       "      <td>tt13711094</td>\n",
       "      <td>8.8</td>\n",
       "      <td>16.0</td>\n",
       "    </tr>\n",
       "  </tbody>\n",
       "</table>\n",
       "<p>5806 rows × 11 columns</p>\n",
       "</div>"
      ],
      "text/plain": [
       "                                    title   type  release_year  \\\n",
       "0     Five Came Back: The Reference Films   SHOW          1945   \n",
       "1                             Taxi Driver  MOVIE          1976   \n",
       "2         Monty Python and the Holy Grail  MOVIE          1975   \n",
       "3                           Life of Brian  MOVIE          1979   \n",
       "4                            The Exorcist  MOVIE          1973   \n",
       "...                                   ...    ...           ...   \n",
       "5801                            Fine Wine  MOVIE          2021   \n",
       "5802                       Edis Starlight  MOVIE          2021   \n",
       "5803                                Clash  MOVIE          2021   \n",
       "5804                       Shadow Parties  MOVIE          2021   \n",
       "5805   Mighty Little Bheem: Kite Festival   SHOW          2021   \n",
       "\n",
       "     age_certification  runtime                             genres  \\\n",
       "0                TV-MA       48                  ['documentation']   \n",
       "1                    R      113                 ['crime', 'drama']   \n",
       "2                   PG       91              ['comedy', 'fantasy']   \n",
       "3                    R       94                         ['comedy']   \n",
       "4                    R      133                         ['horror']   \n",
       "...                ...      ...                                ...   \n",
       "5801               NaN      100               ['romance', 'drama']   \n",
       "5802               NaN       74         ['music', 'documentation']   \n",
       "5803               NaN       88                ['family', 'drama']   \n",
       "5804               NaN      116             ['action', 'thriller']   \n",
       "5805               NaN        0  ['family', 'comedy', 'animation']   \n",
       "\n",
       "     production_countries  seasons     imdb_id  imdb_score  imdb_votes  \n",
       "0                  ['US']      1.0         NaN         NaN         NaN  \n",
       "1                  ['US']      NaN   tt0075314         8.3    795222.0  \n",
       "2                  ['GB']      NaN   tt0071853         8.2    530877.0  \n",
       "3                  ['GB']      NaN   tt0079470         8.0    392419.0  \n",
       "4                  ['US']      NaN   tt0070047         8.1    391942.0  \n",
       "...                   ...      ...         ...         ...         ...  \n",
       "5801               ['NG']      NaN  tt13857480         6.9        39.0  \n",
       "5802                   []      NaN         NaN         NaN         NaN  \n",
       "5803         ['NG', 'CA']      NaN  tt14620732         6.5        32.0  \n",
       "5804                   []      NaN  tt10168094         6.2         9.0  \n",
       "5805                   []      1.0  tt13711094         8.8        16.0  \n",
       "\n",
       "[5806 rows x 11 columns]"
      ]
     },
     "execution_count": 3,
     "metadata": {},
     "output_type": "execute_result"
    }
   ],
   "source": [
    "netflixdata"
   ]
  },
  {
   "cell_type": "markdown",
   "id": "2672f27f",
   "metadata": {
    "papermill": {
     "duration": 0.006315,
     "end_time": "2023-12-21T13:34:47.946796",
     "exception": false,
     "start_time": "2023-12-21T13:34:47.940481",
     "status": "completed"
    },
    "tags": []
   },
   "source": [
    "**Cleaning the data for any empty columns**"
   ]
  },
  {
   "cell_type": "code",
   "execution_count": 4,
   "id": "0d674b0c",
   "metadata": {
    "execution": {
     "iopub.execute_input": "2023-12-21T13:34:47.962344Z",
     "iopub.status.busy": "2023-12-21T13:34:47.961513Z",
     "iopub.status.idle": "2023-12-21T13:34:47.982056Z",
     "shell.execute_reply": "2023-12-21T13:34:47.980452Z"
    },
    "papermill": {
     "duration": 0.031554,
     "end_time": "2023-12-21T13:34:47.984968",
     "exception": false,
     "start_time": "2023-12-21T13:34:47.953414",
     "status": "completed"
    },
    "tags": []
   },
   "outputs": [
    {
     "name": "stdout",
     "output_type": "stream",
     "text": [
      "                                 title   type  release_year age_certification  \\\n",
      "0  Five Came Back: The Reference Films   SHOW          1945             TV-MA   \n",
      "1                          Taxi Driver  MOVIE          1976                 R   \n",
      "2      Monty Python and the Holy Grail  MOVIE          1975                PG   \n",
      "3                        Life of Brian  MOVIE          1979                 R   \n",
      "4                         The Exorcist  MOVIE          1973                 R   \n",
      "\n",
      "   runtime                 genres production_countries  seasons    imdb_id  \\\n",
      "0       48      ['documentation']               ['US']      1.0        NaN   \n",
      "1      113     ['crime', 'drama']               ['US']      NaN  tt0075314   \n",
      "2       91  ['comedy', 'fantasy']               ['GB']      NaN  tt0071853   \n",
      "3       94             ['comedy']               ['GB']      NaN  tt0079470   \n",
      "4      133             ['horror']               ['US']      NaN  tt0070047   \n",
      "\n",
      "   imdb_score  imdb_votes  \n",
      "0         NaN         NaN  \n",
      "1         8.3    795222.0  \n",
      "2         8.2    530877.0  \n",
      "3         8.0    392419.0  \n",
      "4         8.1    391942.0  \n"
     ]
    }
   ],
   "source": [
    "import pandas as pd\n",
    "\n",
    "# Assuming your dataset is in a CSV file named 'netflix_dataset.csv'\n",
    "# Load the dataset into a Pandas DataFrame\n",
    "netflix_data = netflixdata\n",
    "\n",
    "# Dropping columns with all null or empty values\n",
    "netflix_data.dropna(axis=1, how='all', inplace=True)\n",
    "\n",
    "# Displaying the updated dataset\n",
    "print(netflix_data.head())\n"
   ]
  },
  {
   "cell_type": "markdown",
   "id": "68a14a7e",
   "metadata": {
    "papermill": {
     "duration": 0.006444,
     "end_time": "2023-12-21T13:34:47.998324",
     "exception": false,
     "start_time": "2023-12-21T13:34:47.991880",
     "status": "completed"
    },
    "tags": []
   },
   "source": [
    "**Finding out the number of SHOWS and MOVIES on Netflix**"
   ]
  },
  {
   "cell_type": "code",
   "execution_count": 5,
   "id": "317789b5",
   "metadata": {
    "execution": {
     "iopub.execute_input": "2023-12-21T13:34:48.014584Z",
     "iopub.status.busy": "2023-12-21T13:34:48.014143Z",
     "iopub.status.idle": "2023-12-21T13:34:48.028269Z",
     "shell.execute_reply": "2023-12-21T13:34:48.026940Z"
    },
    "papermill": {
     "duration": 0.02527,
     "end_time": "2023-12-21T13:34:48.030824",
     "exception": false,
     "start_time": "2023-12-21T13:34:48.005554",
     "status": "completed"
    },
    "tags": []
   },
   "outputs": [
    {
     "name": "stdout",
     "output_type": "stream",
     "text": [
      "Number of TV Shows: 2047\n",
      "Number of Movies: 3759\n"
     ]
    }
   ],
   "source": [
    "import pandas as pd\n",
    "\n",
    "netflix_data = netflixdata\n",
    "\n",
    "num_shows = netflix_data[netflix_data['type'] == 'SHOW'].shape[0]\n",
    "num_movies = netflix_data[netflix_data['type'] == 'MOVIE'].shape[0]\n",
    "\n",
    "print(f\"Number of TV Shows: {num_shows}\")\n",
    "print(f\"Number of Movies: {num_movies}\")"
   ]
  },
  {
   "cell_type": "markdown",
   "id": "77afa067",
   "metadata": {
    "papermill": {
     "duration": 0.006953,
     "end_time": "2023-12-21T13:34:48.044758",
     "exception": false,
     "start_time": "2023-12-21T13:34:48.037805",
     "status": "completed"
    },
    "tags": []
   },
   "source": [
    "**Visualization**"
   ]
  },
  {
   "cell_type": "code",
   "execution_count": 6,
   "id": "b99ad90a",
   "metadata": {
    "execution": {
     "iopub.execute_input": "2023-12-21T13:34:48.060441Z",
     "iopub.status.busy": "2023-12-21T13:34:48.059879Z",
     "iopub.status.idle": "2023-12-21T13:34:48.414834Z",
     "shell.execute_reply": "2023-12-21T13:34:48.413411Z"
    },
    "papermill": {
     "duration": 0.366198,
     "end_time": "2023-12-21T13:34:48.417826",
     "exception": false,
     "start_time": "2023-12-21T13:34:48.051628",
     "status": "completed"
    },
    "tags": []
   },
   "outputs": [
    {
     "data": {
      "text/plain": [
       "Text(0.5, 1.0, 'Number of TV Shows vs Movies on Netflix')"
      ]
     },
     "execution_count": 6,
     "metadata": {},
     "output_type": "execute_result"
    },
    {
     "data": {
      "image/png": "[encoded data removed]",
      "text/plain": [
       "<Figure size 800x600 with 1 Axes>"
      ]
     },
     "metadata": {},
     "output_type": "display_data"
    }
   ],
   "source": [
    "import pandas as pd\n",
    "import matplotlib.pyplot as plt\n",
    "\n",
    "netflix_data = netflixdata\n",
    "\n",
    "num_shows = netflix_data[netflix_data['type'] == 'SHOW'].shape[0]\n",
    "num_movies = netflix_data[netflix_data['type'] == 'MOVIE'].shape[0]\n",
    "\n",
    "plt.figure(figsize=(8, 6))\n",
    "plt.bar(['TV Shows', 'Movies'], [num_shows, num_movies], color=['blue', 'orange'])\n",
    "\n",
    "plt.xlabel('Type')\n",
    "plt.ylabel('Count')\n",
    "plt.title('Number of TV Shows vs Movies on Netflix')\n"
   ]
  },
  {
   "cell_type": "markdown",
   "id": "87f24b53",
   "metadata": {
    "papermill": {
     "duration": 0.00728,
     "end_time": "2023-12-21T13:34:48.432817",
     "exception": false,
     "start_time": "2023-12-21T13:34:48.425537",
     "status": "completed"
    },
    "tags": []
   },
   "source": [
    "**Finding out top 10 countries that produces the most shows/movies**"
   ]
  },
  {
   "cell_type": "code",
   "execution_count": 7,
   "id": "6d9c4736",
   "metadata": {
    "execution": {
     "iopub.execute_input": "2023-12-21T13:34:48.449843Z",
     "iopub.status.busy": "2023-12-21T13:34:48.449348Z",
     "iopub.status.idle": "2023-12-21T13:34:48.474522Z",
     "shell.execute_reply": "2023-12-21T13:34:48.473184Z"
    },
    "papermill": {
     "duration": 0.0368,
     "end_time": "2023-12-21T13:34:48.477211",
     "exception": false,
     "start_time": "2023-12-21T13:34:48.440411",
     "status": "completed"
    },
    "tags": []
   },
   "outputs": [
    {
     "name": "stdout",
     "output_type": "stream",
     "text": [
      "Top Production Countries:\n",
      "production_countries\n",
      "['US']    1950\n",
      "['IN']     605\n",
      "['JP']     266\n",
      "[]         232\n",
      "['GB']     219\n",
      "['KR']     210\n",
      "['ES']     159\n",
      "['FR']     124\n",
      "['CA']     103\n",
      "['MX']      95\n",
      "Name: count, dtype: int64\n"
     ]
    }
   ],
   "source": [
    "import pandas as pd\n",
    "\n",
    "netflix_data = netflixdata\n",
    "\n",
    "countries_list = netflix_data['production_countries'].str.split('; ').explode()\n",
    "\n",
    "top_countries = countries_list.value_counts()\n",
    "\n",
    "print(\"Top Production Countries:\")\n",
    "print(top_countries.head(10))  # Display the top 10 countries, adjust as needed\n"
   ]
  },
  {
   "cell_type": "markdown",
   "id": "f139071c",
   "metadata": {
    "papermill": {
     "duration": 0.007244,
     "end_time": "2023-12-21T13:34:48.492400",
     "exception": false,
     "start_time": "2023-12-21T13:34:48.485156",
     "status": "completed"
    },
    "tags": []
   },
   "source": [
    "**Visualization**"
   ]
  },
  {
   "cell_type": "code",
   "execution_count": 8,
   "id": "b6d5f3f2",
   "metadata": {
    "execution": {
     "iopub.execute_input": "2023-12-21T13:34:48.510917Z",
     "iopub.status.busy": "2023-12-21T13:34:48.510129Z",
     "iopub.status.idle": "2023-12-21T13:34:49.035547Z",
     "shell.execute_reply": "2023-12-21T13:34:49.034172Z"
    },
    "papermill": {
     "duration": 0.5378,
     "end_time": "2023-12-21T13:34:49.038331",
     "exception": false,
     "start_time": "2023-12-21T13:34:48.500531",
     "status": "completed"
    },
    "tags": []
   },
   "outputs": [
    {
     "data": {
      "image/png": "[encoded data removed]",
      "text/plain": [
       "<Figure size 1000x600 with 1 Axes>"
      ]
     },
     "metadata": {},
     "output_type": "display_data"
    }
   ],
   "source": [
    "import pandas as pd\n",
    "import matplotlib.pyplot as plt\n",
    "\n",
    "netflix_data = netflixdata\n",
    "\n",
    "countries_list = netflix_data['production_countries'].str.split('; ').explode()\n",
    "top_countries = countries_list.value_counts()\n",
    "top_10_countries = top_countries.head(10)\n",
    "\n",
    "plt.figure(figsize=(10, 6))\n",
    "top_10_countries.plot(kind='bar', color='skyblue')\n",
    "plt.title('Top 10 Production Countries on Netflix')\n",
    "plt.xlabel('Countries')\n",
    "plt.ylabel('Number of Productions')\n",
    "plt.xticks(rotation=45)\n",
    "plt.tight_layout()\n",
    "\n",
    "plt.show()"
   ]
  },
  {
   "cell_type": "markdown",
   "id": "49efa80e",
   "metadata": {
    "papermill": {
     "duration": 0.007988,
     "end_time": "2023-12-21T13:34:49.055110",
     "exception": false,
     "start_time": "2023-12-21T13:34:49.047122",
     "status": "completed"
    },
    "tags": []
   },
   "source": []
  },
  {
   "cell_type": "markdown",
   "id": "56db8f8e",
   "metadata": {
    "papermill": {
     "duration": 0.007847,
     "end_time": "2023-12-21T13:34:49.071189",
     "exception": false,
     "start_time": "2023-12-21T13:34:49.063342",
     "status": "completed"
    },
    "tags": []
   },
   "source": [
    "**Listing out number of genres**"
   ]
  },
  {
   "cell_type": "code",
   "execution_count": 9,
   "id": "32109aeb",
   "metadata": {
    "execution": {
     "iopub.execute_input": "2023-12-21T13:34:49.089906Z",
     "iopub.status.busy": "2023-12-21T13:34:49.089494Z",
     "iopub.status.idle": "2023-12-21T13:34:49.108331Z",
     "shell.execute_reply": "2023-12-21T13:34:49.106924Z"
    },
    "papermill": {
     "duration": 0.034453,
     "end_time": "2023-12-21T13:34:49.113824",
     "exception": false,
     "start_time": "2023-12-21T13:34:49.079371",
     "status": "completed"
    },
    "tags": []
   },
   "outputs": [
    {
     "name": "stdout",
     "output_type": "stream",
     "text": [
      "Unique Genres:\n",
      "0                                       ['documentation']\n",
      "1                                      ['crime', 'drama']\n",
      "2                                   ['comedy', 'fantasy']\n",
      "3                                              ['comedy']\n",
      "4                                              ['horror']\n",
      "                              ...                        \n",
      "5695                    ['action', 'animation', 'family']\n",
      "5706                               ['family', 'thriller']\n",
      "5735    ['crime', 'comedy', 'drama', 'thriller', 'acti...\n",
      "5768                       ['music', 'romance', 'comedy']\n",
      "5805                    ['family', 'comedy', 'animation']\n",
      "Name: genres, Length: 1626, dtype: object\n"
     ]
    }
   ],
   "source": [
    "import pandas as pd\n",
    "\n",
    "netflix_data = netflixdata\n",
    "#drop_duplicates to remove duplicates\n",
    "genres_list = netflix_data['genres'].str.split('; ').explode().drop_duplicates()\n",
    "\n",
    "# Displaying the unique genres\n",
    "print(\"Unique Genres:\")\n",
    "print(genres_list)\n",
    "\n"
   ]
  },
  {
   "cell_type": "markdown",
   "id": "369453b7",
   "metadata": {
    "papermill": {
     "duration": 0.008055,
     "end_time": "2023-12-21T13:34:49.131311",
     "exception": false,
     "start_time": "2023-12-21T13:34:49.123256",
     "status": "completed"
    },
    "tags": []
   },
   "source": [
    "**Visualization to show which genre is popular**"
   ]
  },
  {
   "cell_type": "code",
   "execution_count": 10,
   "id": "f6a1e33d",
   "metadata": {
    "execution": {
     "iopub.execute_input": "2023-12-21T13:34:49.149950Z",
     "iopub.status.busy": "2023-12-21T13:34:49.149530Z",
     "iopub.status.idle": "2023-12-21T13:34:49.456985Z",
     "shell.execute_reply": "2023-12-21T13:34:49.455588Z"
    },
    "papermill": {
     "duration": 0.320211,
     "end_time": "2023-12-21T13:34:49.459903",
     "exception": false,
     "start_time": "2023-12-21T13:34:49.139692",
     "status": "completed"
    },
    "tags": []
   },
   "outputs": [
    {
     "data": {
      "image/png": "[encoded data removed]",
      "text/plain": [
       "<Figure size 640x480 with 1 Axes>"
      ]
     },
     "metadata": {},
     "output_type": "display_data"
    }
   ],
   "source": [
    "netflix_data['genres'].value_counts().head(10).plot(kind='bar',color = 'pink')\n",
    "plt.show()"
   ]
  }
 ],
 "metadata": {
  "kaggle": {
   "accelerator": "none",
   "dataSources": [
    {
     "datasetId": 4026921,
     "sourceId": 7004629,
     "sourceType": "datasetVersion"
    }
   ],
   "dockerImageVersionId": 30587,
   "isGpuEnabled": false,
   "isInternetEnabled": true,
   "language": "python",
   "sourceType": "notebook"
  },
  "kernelspec": {
   "display_name": "Python 3",
   "language": "python",
   "name": "python3"
  },
  "language_info": {
   "codemirror_mode": {
    "name": "ipython",
    "version": 3
   },
   "file_extension": ".py",
   "mimetype": "text/x-python",
   "name": "python",
   "nbconvert_exporter": "python",
   "pygments_lexer": "ipython3",
   "version": "3.10.12"
  },
  "papermill": {
   "default_parameters": {},
   "duration": 7.519324,
   "end_time": "2023-12-21T13:34:50.093474",
   "environment_variables": {},
   "exception": null,
   "input_path": "__notebook__.ipynb",
   "output_path": "__notebook__.ipynb",
   "parameters": {},
   "start_time": "2023-12-21T13:34:42.574150",
   "version": "2.4.0"
  }
 },
 "nbformat": 4,
 "nbformat_minor": 5
}
